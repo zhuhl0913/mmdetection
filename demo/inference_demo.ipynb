{
 "cells": [
  {
   "cell_type": "code",
   "execution_count": 1,
   "metadata": {},
   "outputs": [],
   "source": [
    "from mmdet.apis import init_detector, inference_detector\n",
    "from mmdet.utils import register_all_modules\n",
    "from mmdet.registry import VISUALIZERS\n",
    "import mmcv"
   ]
  },
  {
   "cell_type": "code",
   "execution_count": 2,
   "metadata": {},
   "outputs": [
    {
     "name": "stderr",
     "output_type": "stream",
     "text": [
      "'mim' �����ڲ����ⲿ���Ҳ���ǿ����еĳ���\n",
      "���������ļ���\n"
     ]
    }
   ],
   "source": [
    "# download the checkpoint demo\n",
    "!mim download mmdet --config rtmdet_tiny_8xb32-300e_coco --dest ./checkpoints\n",
    "config_file = './checkpoints/rtmdet_tiny_8xb32-300e_coco.py'\n",
    "checkpoint_file = './checkpoints/rtmdet_tiny_8xb32-300e_coco_20220902_112414-78e30dcc.pth'"
   ]
  },
  {
   "cell_type": "code",
   "execution_count": 3,
   "metadata": {},
   "outputs": [
    {
     "name": "stdout",
     "output_type": "stream",
     "text": [
      "Loads checkpoint by local backend from path: ./checkpoints/rtmdet_tiny_8xb32-300e_coco_20220902_112414-78e30dcc.pth\n",
      "The model and loaded state dict do not match exactly\n",
      "\n",
      "unexpected key in source state_dict: data_preprocessor.mean, data_preprocessor.std\n",
      "\n"
     ]
    }
   ],
   "source": [
    "#Register all modules in mmdet into the registries\n",
    "register_all_modules()\n",
    "# build the model from a config file and a checkpoint file\n",
    "model = init_detector(config_file, checkpoint_file, device='cuda:0')  # or device='cpu'"
   ]
  },
  {
   "cell_type": "code",
   "execution_count": 4,
   "metadata": {},
   "outputs": [
    {
     "name": "stderr",
     "output_type": "stream",
     "text": [
      "d:\\environment\\anaconda\\envs\\openmmlab\\lib\\site-packages\\torch\\functional.py:504: UserWarning: torch.meshgrid: in an upcoming release, it will be required to pass the indexing argument. (Triggered internally at C:\\actions-runner\\_work\\pytorch\\pytorch\\builder\\windows\\pytorch\\aten\\src\\ATen\\native\\TensorShape.cpp:3484.)\n",
      "  return _VF.meshgrid(tensors, **kwargs)  # type: ignore[attr-defined]\n"
     ]
    },
    {
     "name": "stdout",
     "output_type": "stream",
     "text": [
      "<DetDataSample(\n",
      "\n",
      "    META INFORMATION\n",
      "    img_shape: (640, 640)\n",
      "    pad_shape: (640, 640)\n",
      "    scale_factor: (1.0, 1.0)\n",
      "    ori_shape: (427, 640)\n",
      "    batch_input_shape: (640, 640)\n",
      "    img_path: None\n",
      "    img_id: 0\n",
      "\n",
      "    DATA FIELDS\n",
      "    ignored_instances: <InstanceData(\n",
      "        \n",
      "            META INFORMATION\n",
      "        \n",
      "            DATA FIELDS\n",
      "        ) at 0x1d950bbbb80>\n",
      "    gt_instances: <InstanceData(\n",
      "        \n",
      "            META INFORMATION\n",
      "        \n",
      "            DATA FIELDS\n",
      "        ) at 0x1d950bbb400>\n",
      "    pred_instances: <InstanceData(\n",
      "        \n",
      "            META INFORMATION\n",
      "        \n",
      "            DATA FIELDS\n",
      "            bboxes: tensor([[220.5612, 176.5875, 456.2024, 383.3578],\n",
      "                        [295.4567, 117.2802, 378.7524, 149.9798],\n",
      "                        [431.2497, 104.4266, 485.1018, 132.0474],\n",
      "                        ...,\n",
      "                        [433.3730,  88.9165, 522.7392, 130.9076],\n",
      "                        [355.7266, 114.7074, 382.2908, 147.6602],\n",
      "                        [550.9922,  93.6002, 615.3209, 127.6473]], device='cuda:0')\n",
      "            labels: tensor([13,  2,  2,  2,  2,  2,  2,  2, 13,  2,  2,  2, 56,  2,  2,  7,  2,  2,\n",
      "                         2,  2,  2,  2,  2,  2,  2,  2,  2,  7,  7,  2,  2, 16,  2,  2,  7,  2,\n",
      "                         2,  7, 56,  2,  7,  2,  7,  2,  2,  2,  2,  2,  2,  2,  2,  7,  2,  7,\n",
      "                         2,  2,  2,  2,  2,  2, 13,  0,  2,  7,  2, 56, 17,  7,  2,  2,  7,  2,\n",
      "                         2,  7, 13,  2,  7,  2,  7,  2,  2,  7,  2,  7,  2, 13,  2,  7,  2, 13,\n",
      "                        13,  2, 58,  2,  7,  2,  7,  2,  7,  2,  2,  2, 13,  2,  2,  2,  2,  2,\n",
      "                         2, 13,  2,  2,  7, 13,  2,  5,  2,  2, 28,  7,  2,  2,  2,  2,  7,  2,\n",
      "                         7,  7,  7,  2,  2,  2,  2,  2,  7,  2, 16, 13,  7,  2,  2,  1,  2,  2,\n",
      "                         2,  0,  2, 25,  7,  0,  2, 57,  2,  2,  7,  2,  2,  2, 60,  2,  7,  7,\n",
      "                        13,  7,  5,  2,  0,  7,  2,  0,  7, 56,  5,  7, 60, 13,  7,  0,  2,  7,\n",
      "                         2,  2,  2,  0,  2,  7,  7,  2,  0, 13,  2,  2, 13, 18,  2,  7, 18,  2,\n",
      "                         7, 13, 13,  7,  2,  7,  0,  7, 13,  2,  7,  0,  2, 13,  0,  7,  0,  2,\n",
      "                         7, 13,  7,  2,  2,  7,  5,  7, 13,  2, 13, 17, 13, 13, 56, 13,  2,  3,\n",
      "                         0,  2,  2,  2, 20, 13,  3,  2,  0, 10,  0, 18,  2,  2,  5, 59, 19,  2,\n",
      "                        13,  5, 13,  0,  2,  7, 13,  2,  0,  0,  5, 13, 13,  0, 13,  5,  7,  7,\n",
      "                        13,  7, 13,  7,  7,  2,  0,  7,  2,  2,  3,  7,  2,  7,  7, 13,  0,  0,\n",
      "                         2,  0,  2,  0,  0,  8,  7,  7, 13,  2,  0,  7], device='cuda:0')\n",
      "            scores: tensor([0.8862, 0.7470, 0.6894, 0.6784, 0.5375, 0.5373, 0.5286, 0.4983, 0.4506,\n",
      "                        0.4341, 0.4267, 0.4236, 0.4085, 0.3778, 0.3446, 0.3420, 0.3408, 0.3275,\n",
      "                        0.3194, 0.3193, 0.3102, 0.3065, 0.3008, 0.2683, 0.2595, 0.2438, 0.2288,\n",
      "                        0.2255, 0.2146, 0.2077, 0.2069, 0.2053, 0.2047, 0.1974, 0.1953, 0.1940,\n",
      "                        0.1934, 0.1909, 0.1877, 0.1811, 0.1796, 0.1750, 0.1722, 0.1719, 0.1697,\n",
      "                        0.1691, 0.1683, 0.1675, 0.1675, 0.1670, 0.1653, 0.1645, 0.1609, 0.1562,\n",
      "                        0.1557, 0.1521, 0.1504, 0.1456, 0.1441, 0.1413, 0.1401, 0.1390, 0.1386,\n",
      "                        0.1383, 0.1378, 0.1374, 0.1367, 0.1363, 0.1359, 0.1358, 0.1358, 0.1357,\n",
      "                        0.1355, 0.1354, 0.1301, 0.1296, 0.1259, 0.1249, 0.1247, 0.1224, 0.1214,\n",
      "                        0.1211, 0.1196, 0.1192, 0.1190, 0.1190, 0.1172, 0.1156, 0.1134, 0.1128,\n",
      "                        0.1127, 0.1120, 0.1111, 0.1111, 0.1108, 0.1090, 0.1072, 0.1067, 0.1066,\n",
      "                        0.1065, 0.1065, 0.1062, 0.1059, 0.1056, 0.1056, 0.1049, 0.1048, 0.1043,\n",
      "                        0.1035, 0.1024, 0.1019, 0.1013, 0.1006, 0.1005, 0.0996, 0.0992, 0.0976,\n",
      "                        0.0976, 0.0970, 0.0968, 0.0964, 0.0951, 0.0948, 0.0930, 0.0925, 0.0923,\n",
      "                        0.0920, 0.0920, 0.0919, 0.0919, 0.0917, 0.0915, 0.0913, 0.0910, 0.0907,\n",
      "                        0.0907, 0.0906, 0.0905, 0.0898, 0.0875, 0.0868, 0.0866, 0.0865, 0.0862,\n",
      "                        0.0854, 0.0850, 0.0850, 0.0850, 0.0845, 0.0828, 0.0821, 0.0820, 0.0819,\n",
      "                        0.0818, 0.0817, 0.0817, 0.0815, 0.0815, 0.0808, 0.0808, 0.0806, 0.0804,\n",
      "                        0.0793, 0.0791, 0.0788, 0.0786, 0.0784, 0.0782, 0.0772, 0.0763, 0.0757,\n",
      "                        0.0750, 0.0744, 0.0737, 0.0726, 0.0724, 0.0718, 0.0717, 0.0715, 0.0711,\n",
      "                        0.0710, 0.0706, 0.0704, 0.0701, 0.0701, 0.0700, 0.0695, 0.0694, 0.0693,\n",
      "                        0.0693, 0.0689, 0.0687, 0.0682, 0.0681, 0.0681, 0.0680, 0.0680, 0.0672,\n",
      "                        0.0671, 0.0670, 0.0667, 0.0666, 0.0666, 0.0664, 0.0664, 0.0663, 0.0662,\n",
      "                        0.0659, 0.0656, 0.0641, 0.0641, 0.0639, 0.0638, 0.0638, 0.0637, 0.0634,\n",
      "                        0.0634, 0.0632, 0.0630, 0.0629, 0.0628, 0.0627, 0.0624, 0.0621, 0.0618,\n",
      "                        0.0617, 0.0616, 0.0616, 0.0608, 0.0608, 0.0604, 0.0603, 0.0603, 0.0603,\n",
      "                        0.0603, 0.0603, 0.0603, 0.0602, 0.0601, 0.0600, 0.0600, 0.0600, 0.0597,\n",
      "                        0.0596, 0.0596, 0.0595, 0.0595, 0.0594, 0.0594, 0.0593, 0.0591, 0.0590,\n",
      "                        0.0587, 0.0586, 0.0581, 0.0581, 0.0579, 0.0578, 0.0578, 0.0577, 0.0576,\n",
      "                        0.0576, 0.0574, 0.0574, 0.0572, 0.0568, 0.0568, 0.0568, 0.0567, 0.0567,\n",
      "                        0.0565, 0.0565, 0.0564, 0.0562, 0.0562, 0.0561, 0.0558, 0.0557, 0.0556,\n",
      "                        0.0555, 0.0552, 0.0552, 0.0550, 0.0550, 0.0550, 0.0550, 0.0546, 0.0546,\n",
      "                        0.0542, 0.0540, 0.0538, 0.0536, 0.0535, 0.0534, 0.0531, 0.0528, 0.0526,\n",
      "                        0.0526, 0.0522, 0.0521], device='cuda:0')\n",
      "        ) at 0x1d950bbb820>\n",
      ") at 0x1d950b9e310>\n"
     ]
    }
   ],
   "source": [
    "# test a single image\n",
    "img = mmcv.imread( 'demo.jpg', channel_order='rgb')\n",
    "result = inference_detector(model, img)\n",
    "print(result)"
   ]
  },
  {
   "cell_type": "code",
   "execution_count": 5,
   "metadata": {},
   "outputs": [
    {
     "name": "stdout",
     "output_type": "stream",
     "text": [
      "06/06 14:55:54 - mmengine - \u001b[5m\u001b[4m\u001b[33mWARNING\u001b[0m - `Visualizer` backend is not initialized because save_dir is None.\n"
     ]
    }
   ],
   "source": [
    "# init the visualizer(execute this block only once)\n",
    "visualizer = VISUALIZERS.build(model.cfg.visualizer)\n",
    "# the dataset_meta is loaded from the checkpoint and\n",
    "# then pass to the model in init_detector\n",
    "visualizer.dataset_meta = model.dataset_meta"
   ]
  },
  {
   "cell_type": "code",
   "execution_count": null,
   "metadata": {},
   "outputs": [],
   "source": [
    "# show the results\n",
    "visualizer.add_datasample(\n",
    "    'result',\n",
    "    img,\n",
    "    data_sample=result,\n",
    "    draw_gt=False,\n",
    "    wait_time=0,\n",
    ")\n",
    "visualizer.show()"
   ]
  }
 ],
 "metadata": {
  "kernelspec": {
   "display_name": "mmdet",
   "language": "python",
   "name": "python3"
  },
  "language_info": {
   "codemirror_mode": {
    "name": "ipython",
    "version": 3
   },
   "file_extension": ".py",
   "mimetype": "text/x-python",
   "name": "python",
   "nbconvert_exporter": "python",
   "pygments_lexer": "ipython3",
   "version": "3.8.16"
  },
  "pycharm": {
   "stem_cell": {
    "cell_type": "raw",
    "metadata": {
     "collapsed": false
    },
    "source": []
   }
  },
  "vscode": {
   "interpreter": {
    "hash": "26395be4d8bd6f462fe6992ade267d864a329fc5ba918775a7fc2edf93f1463b"
   }
  }
 },
 "nbformat": 4,
 "nbformat_minor": 4
}
